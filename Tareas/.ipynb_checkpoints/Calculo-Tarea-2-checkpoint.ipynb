{
 "cells": [
  {
   "cell_type": "markdown",
   "id": "e9f00c32",
   "metadata": {},
   "source": [
    "# Tarea: Intervalos"
   ]
  },
  {
   "cell_type": "markdown",
   "id": "b464cdb9",
   "metadata": {},
   "source": [
    "## Resuelve las siguientes inecuaciones"
   ]
  },
  {
   "cell_type": "markdown",
   "id": "16c4afb4",
   "metadata": {},
   "source": [
    "### $|x-1|<3$ :"
   ]
  },
  {
   "cell_type": "code",
   "execution_count": 36,
   "id": "06a40d88",
   "metadata": {
    "ExecuteTime": {
     "end_time": "2022-06-23T20:35:46.269091Z",
     "start_time": "2022-06-23T20:35:46.264356Z"
    }
   },
   "outputs": [],
   "source": [
    "from sympy import *\n",
    "from sympy.plotting import plot\n",
    "from sympy.solvers.inequalities import solve_univariate_inequality"
   ]
  },
  {
   "cell_type": "code",
   "execution_count": 58,
   "id": "36ba8224",
   "metadata": {
    "ExecuteTime": {
     "end_time": "2022-06-23T20:45:42.118002Z",
     "start_time": "2022-06-23T20:45:42.053775Z"
    }
   },
   "outputs": [
    {
     "data": {
      "text/latex": [
       "$\\displaystyle -2 < x \\wedge x < 4$"
      ],
      "text/plain": [
       "(-2 < x) & (x < 4)"
      ]
     },
     "execution_count": 58,
     "metadata": {},
     "output_type": "execute_result"
    }
   ],
   "source": [
    "x = var('x')\n",
    "solve_univariate_inequality(abs(x-1) < 3, x)"
   ]
  },
  {
   "cell_type": "markdown",
   "id": "2fb470b3",
   "metadata": {},
   "source": [
    "SOL: $\\displaystyle x: x \\in (-2,4)$"
   ]
  },
  {
   "cell_type": "markdown",
   "id": "f0f08fe6",
   "metadata": {},
   "source": [
    "### $|2-3x|<1$:"
   ]
  },
  {
   "cell_type": "code",
   "execution_count": 60,
   "id": "2181c3d1",
   "metadata": {
    "ExecuteTime": {
     "end_time": "2022-06-23T20:46:59.316845Z",
     "start_time": "2022-06-23T20:46:59.233172Z"
    }
   },
   "outputs": [
    {
     "data": {
      "text/latex": [
       "$\\displaystyle \\frac{1}{3} < x \\wedge x < 1$"
      ],
      "text/plain": [
       "(1/3 < x) & (x < 1)"
      ]
     },
     "execution_count": 60,
     "metadata": {},
     "output_type": "execute_result"
    }
   ],
   "source": [
    "x = var('x')\n",
    "solve_univariate_inequality(abs(2 - 3*x) < 1,x)"
   ]
  },
  {
   "cell_type": "markdown",
   "id": "44a1d341",
   "metadata": {},
   "source": [
    "SOL: $x \\in (\\frac{1}{3}, 1)$"
   ]
  },
  {
   "cell_type": "markdown",
   "id": "e50ce221",
   "metadata": {},
   "source": [
    "### $|x -2|>3$ :"
   ]
  },
  {
   "cell_type": "code",
   "execution_count": 39,
   "id": "b4df15e3",
   "metadata": {
    "ExecuteTime": {
     "end_time": "2022-06-23T20:36:07.046511Z",
     "start_time": "2022-06-23T20:36:06.975286Z"
    }
   },
   "outputs": [
    {
     "data": {
      "text/latex": [
       "$\\displaystyle \\left(-\\infty < x \\wedge x < -1\\right) \\vee \\left(5 < x \\wedge x < \\infty\\right)$"
      ],
      "text/plain": [
       "((-oo < x) & (x < -1)) | ((5 < x) & (x < oo))"
      ]
     },
     "execution_count": 39,
     "metadata": {},
     "output_type": "execute_result"
    }
   ],
   "source": [
    "x = var('x')\n",
    "expr = abs(x-2)\n",
    "solve_univariate_inequality(expr > 3,x)"
   ]
  },
  {
   "cell_type": "markdown",
   "id": "c899b4c2",
   "metadata": {},
   "source": [
    "SOL: $x \\in (-\\infty, -1) \\cup (5, \\infty)$"
   ]
  },
  {
   "cell_type": "code",
   "execution_count": 57,
   "id": "4833fede",
   "metadata": {
    "ExecuteTime": {
     "end_time": "2022-06-23T20:45:06.860174Z",
     "start_time": "2022-06-23T20:45:06.728506Z"
    }
   },
   "outputs": [
    {
     "data": {
      "image/png": "[encoded data removed]",
      "text/plain": [
       "<Figure size 432x288 with 1 Axes>"
      ]
     },
     "metadata": {
      "needs_background": "light"
     },
     "output_type": "display_data"
    },
    {
     "data": {
      "text/plain": [
       "<sympy.plotting.plot.Plot at 0x7fa59831b670>"
      ]
     },
     "execution_count": 57,
     "metadata": {},
     "output_type": "execute_result"
    }
   ],
   "source": [
    "plot_implicit(abs(x-2) >3,(x,-5.,10.), line_color = 'c')"
   ]
  },
  {
   "cell_type": "markdown",
   "id": "676eacc6",
   "metadata": {},
   "source": [
    "## Resuelve analiticamente y graficamente las siguientes inecuaciones:"
   ]
  },
  {
   "cell_type": "markdown",
   "id": "fa28e1e8",
   "metadata": {},
   "source": [
    "### $\\displaystyle |5 - \\frac{1}{x}| < 1$:"
   ]
  },
  {
   "cell_type": "code",
   "execution_count": 61,
   "id": "6ead2f00",
   "metadata": {
    "ExecuteTime": {
     "end_time": "2022-06-23T20:47:34.386040Z",
     "start_time": "2022-06-23T20:47:34.271727Z"
    }
   },
   "outputs": [
    {
     "data": {
      "text/latex": [
       "$\\displaystyle \\frac{1}{6} < x \\wedge x < \\frac{1}{4}$"
      ],
      "text/plain": [
       "(1/6 < x) & (x < 1/4)"
      ]
     },
     "execution_count": 61,
     "metadata": {},
     "output_type": "execute_result"
    }
   ],
   "source": [
    "x = var('x')\n",
    "solve_univariate_inequality(abs(5 - 1/x) < 1,x)"
   ]
  },
  {
   "cell_type": "markdown",
   "id": "0fec3264",
   "metadata": {},
   "source": [
    "SOL: $\\displaystyle x \\in \\left(\\frac{1}{6}, \\frac{1}{4}\\right)$"
   ]
  },
  {
   "cell_type": "code",
   "execution_count": 65,
   "id": "cefb7e60",
   "metadata": {
    "ExecuteTime": {
     "end_time": "2022-06-23T20:48:39.827979Z",
     "start_time": "2022-06-23T20:48:39.606340Z"
    }
   },
   "outputs": [
    {
     "data": {
      "image/png": "[encoded data removed]",
      "text/plain": [
       "<Figure size 432x288 with 1 Axes>"
      ]
     },
     "metadata": {
      "needs_background": "light"
     },
     "output_type": "display_data"
    },
    {
     "data": {
      "text/plain": [
       "<sympy.plotting.plot.Plot at 0x7fa5eaa43520>"
      ]
     },
     "execution_count": 65,
     "metadata": {},
     "output_type": "execute_result"
    }
   ],
   "source": [
    "plot_implicit(abs(5 - 1/x) < 1,(x,-1.,1.), line_color = 'g')"
   ]
  },
  {
   "cell_type": "markdown",
   "id": "786f13e0",
   "metadata": {},
   "source": [
    "## Resuelve la siguiente inecuacion:"
   ]
  },
  {
   "cell_type": "markdown",
   "id": "aa43f610",
   "metadata": {},
   "source": [
    "### $x<x^2 -12<3x$: "
   ]
  },
  {
   "cell_type": "code",
   "execution_count": 68,
   "id": "70885611",
   "metadata": {
    "ExecuteTime": {
     "end_time": "2022-06-23T20:51:49.101549Z",
     "start_time": "2022-06-23T20:51:49.028145Z"
    }
   },
   "outputs": [
    {
     "name": "stdout",
     "output_type": "stream",
     "text": [
      "(x < 3/2 + sqrt(57)/2) & (3/2 - sqrt(57)/2 < x)\n"
     ]
    }
   ],
   "source": [
    "x = var('x')\n",
    "p1 = solve_univariate_inequality(x**2-12<3*x,x)\n",
    "print(p1)"
   ]
  },
  {
   "cell_type": "code",
   "execution_count": 67,
   "id": "993e3408",
   "metadata": {
    "ExecuteTime": {
     "end_time": "2022-06-23T20:51:33.587826Z",
     "start_time": "2022-06-23T20:51:33.433213Z"
    }
   },
   "outputs": [
    {
     "data": {
      "image/png": "[encoded data removed]",
      "text/plain": [
       "<Figure size 432x288 with 1 Axes>"
      ]
     },
     "metadata": {
      "needs_background": "light"
     },
     "output_type": "display_data"
    },
    {
     "name": "stdout",
     "output_type": "stream",
     "text": [
      "Plot object containing:\n",
      "[0]: Implicit equation: x**2 - 12 < 3*x for x over (-5.0, 6.0) and _f(x) over (-5.0, 5.0)\n"
     ]
    }
   ],
   "source": [
    "g1 = plot_implicit(x**2-12<3*x,(x,-5.,6.), line_color = 'c')\n",
    "g1"
   ]
  },
  {
   "cell_type": "code",
   "execution_count": 66,
   "id": "2dc6d12d",
   "metadata": {
    "ExecuteTime": {
     "end_time": "2022-06-23T20:51:13.671260Z",
     "start_time": "2022-06-23T20:51:13.593157Z"
    }
   },
   "outputs": [
    {
     "name": "stdout",
     "output_type": "stream",
     "text": [
      "((-oo < x) & (x < -3)) | ((4 < x) & (x < oo))\n"
     ]
    }
   ],
   "source": [
    "p2 = solve_univariate_inequality(x<x**2-12,x)\n",
    "print(p2)"
   ]
  },
  {
   "cell_type": "code",
   "execution_count": 47,
   "id": "e57a1a14",
   "metadata": {
    "ExecuteTime": {
     "end_time": "2022-06-23T20:40:32.404057Z",
     "start_time": "2022-06-23T20:40:32.215464Z"
    }
   },
   "outputs": [
    {
     "data": {
      "image/png": "[encoded data removed]",
      "text/plain": [
       "<Figure size 432x288 with 1 Axes>"
      ]
     },
     "metadata": {
      "needs_background": "light"
     },
     "output_type": "display_data"
    },
    {
     "data": {
      "text/plain": [
       "<sympy.plotting.plot.Plot at 0x7fa5f8bae8b0>"
      ]
     },
     "execution_count": 47,
     "metadata": {},
     "output_type": "execute_result"
    }
   ],
   "source": [
    "g2 = plot_implicit(x<x**2-12,(x,-5.,6.), line_color = 'y')\n",
    "g2"
   ]
  },
  {
   "cell_type": "markdown",
   "id": "386219b1",
   "metadata": {},
   "source": [
    "SOL: $x \\in \\left(4,\\frac{3+\\sqrt{57}}{2}\\right)$"
   ]
  },
  {
   "cell_type": "markdown",
   "id": "81748050",
   "metadata": {},
   "source": [
    "## Resuelve la siguiente inecuacion:"
   ]
  },
  {
   "cell_type": "markdown",
   "id": "7a98bc1b",
   "metadata": {},
   "source": [
    "### $\\displaystyle 0 < |x-3| < \\frac{1}{3}$"
   ]
  },
  {
   "cell_type": "code",
   "execution_count": 87,
   "id": "6b4e65d1",
   "metadata": {
    "ExecuteTime": {
     "end_time": "2022-06-23T21:04:05.577766Z",
     "start_time": "2022-06-23T21:04:05.521944Z"
    }
   },
   "outputs": [
    {
     "data": {
      "text/latex": [
       "$\\displaystyle x > -\\infty \\wedge x < \\infty \\wedge x \\neq 3$"
      ],
      "text/plain": [
       "(x > -oo) & (x < oo) & Ne(x, 3)"
      ]
     },
     "execution_count": 87,
     "metadata": {},
     "output_type": "execute_result"
    }
   ],
   "source": [
    "p = solve_univariate_inequality(0 < abs(x-3),x)\n",
    "p"
   ]
  },
  {
   "cell_type": "code",
   "execution_count": 84,
   "id": "0e6b2c7f",
   "metadata": {
    "ExecuteTime": {
     "end_time": "2022-06-23T21:02:16.076487Z",
     "start_time": "2022-06-23T21:02:15.953763Z"
    }
   },
   "outputs": [
    {
     "data": {
      "image/png": "[encoded data removed]",
      "text/plain": [
       "<Figure size 432x288 with 1 Axes>"
      ]
     },
     "metadata": {
      "needs_background": "light"
     },
     "output_type": "display_data"
    },
    {
     "data": {
      "text/plain": [
       "<sympy.plotting.plot.Plot at 0x7fa5f9842040>"
      ]
     },
     "execution_count": 84,
     "metadata": {},
     "output_type": "execute_result"
    }
   ],
   "source": [
    "plot_implicit(0 < abs(x-3), (x, 0, 6), line_color = 'y')"
   ]
  },
  {
   "cell_type": "code",
   "execution_count": 88,
   "id": "c08a68e5",
   "metadata": {
    "ExecuteTime": {
     "end_time": "2022-06-23T21:04:16.359424Z",
     "start_time": "2022-06-23T21:04:16.285724Z"
    }
   },
   "outputs": [
    {
     "data": {
      "text/latex": [
       "$\\displaystyle 2.66666666666667 < x \\wedge x < 3.33333333333333$"
      ],
      "text/plain": [
       "(2.66666666666667 < x) & (x < 3.33333333333333)"
      ]
     },
     "execution_count": 88,
     "metadata": {},
     "output_type": "execute_result"
    }
   ],
   "source": [
    "q = solve_univariate_inequality(abs(x-3)< 1/3,x)\n",
    "q"
   ]
  },
  {
   "cell_type": "code",
   "execution_count": 85,
   "id": "d8189610",
   "metadata": {
    "ExecuteTime": {
     "end_time": "2022-06-23T21:02:20.826785Z",
     "start_time": "2022-06-23T21:02:20.635718Z"
    }
   },
   "outputs": [
    {
     "data": {
      "image/png": "[encoded data removed]",
      "text/plain": [
       "<Figure size 432x288 with 1 Axes>"
      ]
     },
     "metadata": {
      "needs_background": "light"
     },
     "output_type": "display_data"
    },
    {
     "data": {
      "text/plain": [
       "<sympy.plotting.plot.Plot at 0x7fa5f9840f40>"
      ]
     },
     "execution_count": 85,
     "metadata": {},
     "output_type": "execute_result"
    }
   ],
   "source": [
    "plot_implicit(abs(x-3)<1/3, (x, 0, 6 ), line_color = 'g')"
   ]
  },
  {
   "cell_type": "code",
   "execution_count": 89,
   "id": "55eb410c",
   "metadata": {
    "ExecuteTime": {
     "end_time": "2022-06-23T21:04:21.645137Z",
     "start_time": "2022-06-23T21:04:21.638496Z"
    }
   },
   "outputs": [
    {
     "data": {
      "text/latex": [
       "$\\displaystyle 2.66666666666667 < x \\wedge x < 3.33333333333333$"
      ],
      "text/plain": [
       "(2.66666666666667 < x) & (x < 3.33333333333333)"
      ]
     },
     "execution_count": 89,
     "metadata": {},
     "output_type": "execute_result"
    }
   ],
   "source": [
    "p and q"
   ]
  },
  {
   "cell_type": "markdown",
   "id": "d55ead14",
   "metadata": {},
   "source": [
    "## Resuelve la inecuacion:"
   ]
  },
  {
   "cell_type": "markdown",
   "id": "60a7339b",
   "metadata": {},
   "source": [
    "### $|x-2|+|x+2| \\le 4$"
   ]
  },
  {
   "cell_type": "code",
   "execution_count": 98,
   "id": "711565a9",
   "metadata": {
    "ExecuteTime": {
     "end_time": "2022-06-23T21:15:35.163611Z",
     "start_time": "2022-06-23T21:15:35.064403Z"
    }
   },
   "outputs": [
    {
     "data": {
      "image/png": "[encoded data removed]",
      "text/plain": [
       "<Figure size 432x288 with 1 Axes>"
      ]
     },
     "metadata": {
      "needs_background": "light"
     },
     "output_type": "display_data"
    }
   ],
   "source": [
    "import numpy as np\n",
    "import matplotlib.pyplot as plt\n",
    "ax = plt.gca()\n",
    "x = np.arange(-5,5,0.01)\n",
    "y = (abs(x-2)+abs(x+2))\n",
    "ax.plot(x,y)\n",
    "ax.spines['left'].set_position('zero')\n",
    "ax.spines['right'].set_color('none')\n",
    "ax.spines['bottom'].set_position('zero')\n",
    "ax.spines['top'].set_color('none')\n",
    "plt.xticks(np.arange(-5,5, 1))\n",
    "plt.yticks(np.arange(-8,6.1,2))\n",
    "plt.show()"
   ]
  },
  {
   "cell_type": "code",
   "execution_count": null,
   "id": "706a0eb6",
   "metadata": {},
   "outputs": [],
   "source": []
  }
 ],
 "metadata": {
  "kernelspec": {
   "display_name": "Python 3 (ipykernel)",
   "language": "python",
   "name": "python3"
  },
  "language_info": {
   "codemirror_mode": {
    "name": "ipython",
    "version": 3
   },
   "file_extension": ".py",
   "mimetype": "text/x-python",
   "name": "python",
   "nbconvert_exporter": "python",
   "pygments_lexer": "ipython3",
   "version": "3.9.12"
  },
  "toc": {
   "base_numbering": 1,
   "nav_menu": {},
   "number_sections": true,
   "sideBar": true,
   "skip_h1_title": false,
   "title_cell": "Table of Contents",
   "title_sidebar": "Contents",
   "toc_cell": false,
   "toc_position": {},
   "toc_section_display": true,
   "toc_window_display": false
  },
  "varInspector": {
   "cols": {
    "lenName": 16,
    "lenType": 16,
    "lenVar": 40
   },
   "kernels_config": {
    "python": {
     "delete_cmd_postfix": "",
     "delete_cmd_prefix": "del ",
     "library": "var_list.py",
     "varRefreshCmd": "print(var_dic_list())"
    },
    "r": {
     "delete_cmd_postfix": ") ",
     "delete_cmd_prefix": "rm(",
     "library": "var_list.r",
     "varRefreshCmd": "cat(var_dic_list()) "
    }
   },
   "types_to_exclude": [
    "module",
    "function",
    "builtin_function_or_method",
    "instance",
    "_Feature"
   ],
   "window_display": false
  }
 },
 "nbformat": 4,
 "nbformat_minor": 5
}
